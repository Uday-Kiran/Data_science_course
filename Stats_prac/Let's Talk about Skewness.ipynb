{
 "cells": [
  {
   "cell_type": "markdown",
   "metadata": {},
   "source": [
    "# Parameter of Symmetry\n",
    "\n",
    "Skewness (Sk) is a measure of lack of symmetry. It is a shape parameter that charac- terizes the degree of asymmetry of a distribution. A distribution is said to be positively skewed with degree of skewness greater than 0 | sk>0 | when the tail of a distribution is toward the high values indicating an excess of low values. \n",
    "\n",
    "Conversely, it is negatively skewed with degree of skewness less than 0 | sk<0 | when the tail of the distribution is toward the low values indicating an excess of high values. \n",
    "\n"
   ]
  },
  {
   "cell_type": "markdown",
   "metadata": {},
   "source": [
    "![title](Image/Skewness.png)"
   ]
  },
  {
   "cell_type": "code",
   "execution_count": 1,
   "metadata": {},
   "outputs": [],
   "source": [
    "#import libraries\n",
    "\n",
    "import pandas as pd\n",
    "import numpy as np"
   ]
  },
  {
   "cell_type": "code",
   "execution_count": 2,
   "metadata": {},
   "outputs": [],
   "source": [
    "#creating a dataset\n",
    "\n",
    "'''We will make two dataset one with numpy's random numbers and another one using pandas'''\n",
    "\n",
    "'''Make sure you define the randomness or else \n",
    "    it will keep changing the values everytime you run the program'''\n",
    "np.random.seed(7) \n",
    "\n",
    "dataset_1 = pd.DataFrame([1,3,4,5,6,7,8,1,3,3,3,3,3,3,3,3])\n",
    "dataset_2 = pd.DataFrame(np.random.randint(2,100,10))"
   ]
  },
  {
   "cell_type": "code",
   "execution_count": 3,
   "metadata": {},
   "outputs": [
    {
     "name": "stderr",
     "output_type": "stream",
     "text": [
      "/Users/nielspace/anaconda3/lib/python3.7/site-packages/scipy/stats/stats.py:1713: FutureWarning: Using a non-tuple sequence for multidimensional indexing is deprecated; use `arr[tuple(seq)]` instead of `arr[seq]`. In the future this will be interpreted as an array index, `arr[np.array(seq)]`, which will result either in an error or a different result.\n",
      "  return np.add.reduce(sorted[indexer] * weights, axis=axis) / sumval\n"
     ]
    },
    {
     "data": {
      "text/plain": [
       "<Figure size 1000x800 with 1 Axes>"
      ]
     },
     "metadata": {},
     "output_type": "display_data"
    },
    {
     "name": "stdout",
     "output_type": "stream",
     "text": [
      "\n",
      "-----------------------------------------------------\n",
      "The mean of dataset_1 is 0    3.6875\n",
      "dtype: float64\n",
      "\n",
      "-----------------------------------------------------\n",
      "The median of dataset_1 is 0    3.0\n",
      "dtype: float64\n",
      "\n",
      "-----------------------------------------------------\n",
      "The mode of dataset_1 is    0\n",
      "0  3\n",
      "\n",
      "-----------------------------------------------------\n",
      "The skewness of the distribution is: 0    0.959325\n",
      "dtype: float64\n"
     ]
    }
   ],
   "source": [
    "import seaborn as sb\n",
    "import matplotlib.pyplot as plt\n",
    "\n",
    "\n",
    "plt.figure(figsize=(10,8))\n",
    "sb.distplot(dataset_1, bins = 20)\n",
    "plt.show()\n",
    "print()\n",
    "print('-----------------------------------------------------')\n",
    "print('The mean of dataset_1 is',dataset_1.mean())\n",
    "print()\n",
    "print('-----------------------------------------------------')\n",
    "print('The median of dataset_1 is', dataset_1.median())\n",
    "print()\n",
    "print('-----------------------------------------------------')\n",
    "print('The mode of dataset_1 is', dataset_1.mode())\n",
    "print()\n",
    "print('-----------------------------------------------------')\n",
    "print('The skewness of the distribution is:',dataset_1.skew())"
   ]
  },
  {
   "cell_type": "markdown",
   "metadata": {},
   "source": [
    "The above distribition is a positively skewed distribution. Because it has a longer tail on the right.\n",
    "One of the things to be considered is that the positive and negetive is determined by the length of the tail on the either side of the distribution along the mean. "
   ]
  },
  {
   "cell_type": "code",
   "execution_count": 4,
   "metadata": {},
   "outputs": [
    {
     "data": {
      "image/png": "[encoded data removed]",
      "text/plain": [
       "<Figure size 720x576 with 1 Axes>"
      ]
     },
     "metadata": {
      "needs_background": "light"
     },
     "output_type": "display_data"
    },
    {
     "name": "stdout",
     "output_type": "stream",
     "text": [
      "\n",
      "-----------------------------------------------------\n",
      "The mean of dataset_1 is 0    51.9\n",
      "dtype: float64\n",
      "\n",
      "-----------------------------------------------------\n",
      "The median of dataset_1 is 0    54.0\n",
      "dtype: float64\n",
      "\n",
      "-----------------------------------------------------\n",
      "The mode of dataset_1 is     0\n",
      "0  25\n",
      "\n",
      "-----------------------------------------------------\n",
      "The skewness of the distribution is: 0    0.140644\n",
      "dtype: float64\n"
     ]
    }
   ],
   "source": [
    "plt.figure(figsize=(10,8))\n",
    "sb.distplot(dataset_2, bins = 20)\n",
    "plt.show()\n",
    "print()\n",
    "print('-----------------------------------------------------')\n",
    "print('The mean of dataset_1 is',dataset_2.mean())\n",
    "print()\n",
    "print('-----------------------------------------------------')\n",
    "print('The median of dataset_1 is', dataset_2.median())\n",
    "print()\n",
    "print('-----------------------------------------------------')\n",
    "print('The mode of dataset_1 is', dataset_2.mode())\n",
    "print()\n",
    "print('-----------------------------------------------------')\n",
    "print('The skewness of the distribution is:',dataset_2.skew())"
   ]
  },
  {
   "cell_type": "markdown",
   "metadata": {},
   "source": [
    "Again we can see that the skewness is towards the right ie positive. \n",
    "\n",
    "Now, let us see the mean, median and mode it is 51.9, 54 and 25 respectively. Now look at the graph it behaves accordinly  with the central tendency. If the mean is more than the mode is it positively skewed. Once again skewness is calculated by the length of the tail in a distribution ie how long the tail is and in which direction. \n",
    "\n",
    "It is not only the mean and the mode that decides the skewness but all -- the mean, median and mode. "
   ]
  },
  {
   "cell_type": "code",
   "execution_count": 5,
   "metadata": {},
   "outputs": [
    {
     "data": {
      "image/png": "[encoded data removed]",
      "text/plain": [
       "<Figure size 720x576 with 1 Axes>"
      ]
     },
     "metadata": {
      "needs_background": "light"
     },
     "output_type": "display_data"
    },
    {
     "name": "stdout",
     "output_type": "stream",
     "text": [
      "\n",
      "-----------------------------------------------------\n",
      "The mean of dataset_1 is 0    62.2\n",
      "dtype: float64\n",
      "\n",
      "-----------------------------------------------------\n",
      "The median of dataset_1 is 0    65.5\n",
      "dtype: float64\n",
      "\n",
      "-----------------------------------------------------\n",
      "The mode of dataset_1 is     0\n",
      "0  27\n",
      "1  33\n",
      "2  41\n",
      "3  42\n",
      "4  56\n",
      "5  75\n",
      "6  78\n",
      "7  85\n",
      "8  92\n",
      "9  93\n",
      "\n",
      "-----------------------------------------------------\n",
      "The skewness of the distribution is: 0   -0.111111\n",
      "dtype: float64\n"
     ]
    }
   ],
   "source": [
    "np.random.seed(23)\n",
    "dataset_3 = pd.DataFrame(np.random.randint(2,100,10))\n",
    "\n",
    "plt.figure(figsize=(10,8))\n",
    "sb.distplot(dataset_2, bins = 20)\n",
    "plt.show()\n",
    "print()\n",
    "print('-----------------------------------------------------')\n",
    "print('The mean of dataset_1 is',dataset_3.mean())\n",
    "print()\n",
    "print('-----------------------------------------------------')\n",
    "print('The median of dataset_1 is', dataset_3.median())\n",
    "print()\n",
    "print('-----------------------------------------------------')\n",
    "print('The mode of dataset_1 is', dataset_3.mode())\n",
    "print()\n",
    "print('-----------------------------------------------------')\n",
    "print('The skewness of the distribution is:',dataset_3.skew())"
   ]
  },
  {
   "cell_type": "markdown",
   "metadata": {},
   "source": [
    "In the above distribution we can see that the median is more than the mean hence negetively skewed. Another reason is that it doesn't has a specific mode therefore we can clearly say that the skewness in this case depends only on the mean and median. "
   ]
  },
  {
   "cell_type": "code",
   "execution_count": 6,
   "metadata": {},
   "outputs": [
    {
     "data": {
      "image/png": "[encoded data removed]",
      "text/plain": [
       "<Figure size 720x576 with 1 Axes>"
      ]
     },
     "metadata": {
      "needs_background": "light"
     },
     "output_type": "display_data"
    },
    {
     "name": "stdout",
     "output_type": "stream",
     "text": [
      "\n",
      "-----------------------------------------------------\n",
      "The mean of dataset_1 is 0    54.1\n",
      "dtype: float64\n",
      "\n",
      "-----------------------------------------------------\n",
      "The median of dataset_1 is 0    60.0\n",
      "dtype: float64\n",
      "\n",
      "-----------------------------------------------------\n",
      "The mode of dataset_1 is     0\n",
      "0   5\n",
      "1   7\n",
      "2  21\n",
      "3  45\n",
      "4  56\n",
      "5  64\n",
      "6  73\n",
      "7  89\n",
      "8  90\n",
      "9  91\n",
      "\n",
      "-----------------------------------------------------\n",
      "The skewness of the distribution is: 0   -0.415786\n",
      "dtype: float64\n"
     ]
    }
   ],
   "source": [
    "np.random.seed(32)\n",
    "dataset_3 = pd.DataFrame(np.random.randint(2,100,10))\n",
    "\n",
    "plt.figure(figsize=(10,8))\n",
    "sb.distplot(dataset_2, bins = 20)\n",
    "plt.show()\n",
    "print()\n",
    "print('-----------------------------------------------------')\n",
    "print('The mean of dataset_1 is',dataset_3.mean())\n",
    "print()\n",
    "print('-----------------------------------------------------')\n",
    "print('The median of dataset_1 is', dataset_3.median())\n",
    "print()\n",
    "print('-----------------------------------------------------')\n",
    "print('The mode of dataset_1 is', dataset_3.mode())\n",
    "print()\n",
    "print('-----------------------------------------------------')\n",
    "print('The skewness of the distribution is:',dataset_3.skew())"
   ]
  },
  {
   "cell_type": "markdown",
   "metadata": {},
   "source": [
    "This example also depicts the same thing. Lots of mode and mean lesser than median. Therefore, negetively skewed. "
   ]
  },
  {
   "cell_type": "markdown",
   "metadata": {},
   "source": [
    "### Try out different dataset with different distribution and observe the behavior of the dataset"
   ]
  },
  {
   "cell_type": "code",
   "execution_count": null,
   "metadata": {},
   "outputs": [],
   "source": []
  }
 ],
 "metadata": {
  "kernelspec": {
   "display_name": "Python 3",
   "language": "python",
   "name": "python3"
  },
  "language_info": {
   "codemirror_mode": {
    "name": "ipython",
    "version": 3
   },
   "file_extension": ".py",
   "mimetype": "text/x-python",
   "name": "python",
   "nbconvert_exporter": "python",
   "pygments_lexer": "ipython3",
   "version": "3.7.1"
  }
 },
 "nbformat": 4,
 "nbformat_minor": 2
}
